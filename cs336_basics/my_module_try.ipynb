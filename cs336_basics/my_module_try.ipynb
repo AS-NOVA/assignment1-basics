{
 "cells": [
  {
   "cell_type": "code",
   "execution_count": 14,
   "id": "b099c4e3",
   "metadata": {},
   "outputs": [],
   "source": [
    "import torch\n",
    "import torch.nn as nn\n",
    "from einops import einsum, rearrange, reduce\n"
   ]
  },
  {
   "cell_type": "code",
   "execution_count": null,
   "id": "b7884f75",
   "metadata": {},
   "outputs": [],
   "source": [
    "\n",
    "class Linear(nn.Module) :\n",
    "    def __init__(self, \n",
    "                 in_features:int, \n",
    "                 out_features:int, \n",
    "                 device:torch.device | None = None,\n",
    "                 dtype:torch.dtype | None = None\n",
    "                 ) -> None:\n",
    "        super().__init__()\n",
    "        # in out维度记录在模块内部\n",
    "        # tensor位置和类型信息并不属于模块，而是跟着tensor走\n",
    "        # 所以只是传给创建tensor的函数，需要这些信息时直接问tensor而非模块\n",
    "        self.in_features = in_features\n",
    "        self.out_features = out_features\n",
    "        parameter_kwargs = {\"device\": device, \"dtype\": dtype}\n",
    "\n",
    "        # 创建一块参数矩阵\n",
    "        # 由于pytorch存储参数时是按行的，每行内容都会连在一起\n",
    "        # 而进行乘法时一定是长为in_features的那一维去乘输入向量\n",
    "        # 所以一定是让in_features作为行的长度，out_features作为行的数量\n",
    "        self.W = nn.Parameter(\n",
    "            torch.empty(\n",
    "                out_features,\n",
    "                in_features,\n",
    "                **parameter_kwargs    # 注意输入的设备和类型信息传到了这里！\n",
    "            ))\n",
    "        \n",
    "        # 初始化：方差为2/(d_in + d_out)，截断处在3个标准差\n",
    "        var = 2.0 / (in_features + out_features)\n",
    "        std = var ** 0.5\n",
    "        nn.init.trunc_normal_(self.W, std=std, a=-3*std, b=3*std)\n",
    "\n",
    "    def forward(self, x:torch.Tensor) -> torch.Tensor:\n",
    "        # x的形状是 (..., d_in)\n",
    "        # W的形状是 (d_out, d_in)\n",
    "        # 输出形状是 (..., d_out)\n",
    "        # 简单写法：return x @ self.W.T\n",
    "        return einsum(x, self.W, \"... d_in, d_out d_in -> ... d_out\")   #和上面的等价\n",
    "        # 注意：x前面可能有许多维度，但最后一维一定是输入维度d_in\n",
    "        # 而为了方便计算，我们的W是d_out*d_in的\n",
    "        # 所以正常需要转置W才能相乘！这里用einsum来指定怎么乘，可以避免手动转置"
   ]
  },
  {
   "cell_type": "code",
   "execution_count": 3,
   "id": "db73bb48",
   "metadata": {},
   "outputs": [
    {
     "name": "stdout",
     "output_type": "stream",
     "text": [
      "cpu\n"
     ]
    }
   ],
   "source": [
    "linear = Linear(4, 3)\n",
    "# 测试如何取到模块的所在设备\n",
    "print(linear.W.device)  # cpu"
   ]
  },
  {
   "cell_type": "code",
   "execution_count": null,
   "id": "3e7d609c",
   "metadata": {},
   "outputs": [],
   "source": [
    "class Embedding(nn.Module):\n",
    "    def __init__(self,\n",
    "                 num_embeddings:int, # 词表大小\n",
    "                 embedding_dim:int, # 隐藏空间大小\n",
    "                 device:torch.device | None = None,\n",
    "                 dtype:torch.dtype | None = None\n",
    "                 ) -> None:\n",
    "        super().__init__()\n",
    "        self.embedding_matrix = nn.Parameter(\n",
    "            torch.empty(\n",
    "                num_embeddings,\n",
    "                embedding_dim,\n",
    "                device=device,\n",
    "                dtype=dtype\n",
    "            )\n",
    "        )\n",
    "        nn.init.trunc_normal_(\n",
    "            self.embedding_matrix,\n",
    "            a = -3,\n",
    "            b = 3\n",
    "        )\n",
    "\n",
    "    def forward(self, token_ids: torch.Tensor) -> torch.Tensor:\n",
    "        return self.embedding_matrix[token_ids]"
   ]
  },
  {
   "cell_type": "markdown",
   "id": "6e4b95ad",
   "metadata": {},
   "source": [
    "Deliverable: Implement RMSNorm as a torch.nn.Module. We recommend the following interface:\n",
    "def __init__(self, d_model: int, eps: float = 1e-5, device=None, dtype=None)\n",
    "Construct the RMSNorm module. This function should accept the following parameters:\n",
    "d_model: int Hidden dimension of the model\n",
    "eps: float = 1e-5 Epsilon value for numerical stability\n",
    "device: torch.device | None = None Device to store the parameters on\n",
    "dtype: torch.dtype | None = None Data type of the parameters\n",
    "\n",
    "def forward(self, x: torch.Tensor) -> torch.Tensor Process an input tensor of shape\n",
    "(batch_size, sequence_length, d_model) and return a tensor of the same shape.\n",
    "Note: Remember to upcast your input to torch.float32 before performing the normalization (and\n",
    "later downcast to the original dtype), as described above.\n",
    "To test your implementation, implement the test adapter at [adapters.run_rmsnorm]. Then, run uv\n",
    "run pytest -k test_rmsnorm.\n"
   ]
  },
  {
   "cell_type": "code",
   "execution_count": null,
   "id": "57cafb5e",
   "metadata": {},
   "outputs": [],
   "source": [
    "class RMSNorm(nn.Module):\n",
    "    def __init__(self, \n",
    "                 d_model: int, \n",
    "                 eps: float = 1e-5, \n",
    "                 device:torch.device | None = None, \n",
    "                 dtype:torch.dtype | None = None):\n",
    "        super().__init__()\n",
    "        self.d_model = d_model\n",
    "        self.eps = eps\n",
    "        parameter_kwargs = {\"device\": device, \"dtype\": dtype}\n",
    "\n",
    "        self.gain_parameter = nn.Parameter(\n",
    "            torch.empty(\n",
    "                d_model,\n",
    "                **parameter_kwargs\n",
    "            )\n",
    "        )\n",
    "\n",
    "        nn.init.ones_(self.gain_parameter)\n",
    "\n",
    "        # 其实可以用torch.ones直接初始化，不过这里拆成两部分便于理解\n",
    "\n",
    "\n",
    "    def forward(self, x: torch.Tensor) -> torch.Tensor:\n",
    "        in_dtype = x.dtype\n",
    "        x = x.to(torch.float32)\n",
    "        rms = torch.sqrt(reduce(x**2,\"... d -> ... 1\",\"mean\") + self.eps) ** -1 \n",
    "        # 将x的最后一维压缩为一个标量作为分母，但是保留这一维度，便于广播\n",
    "        res = x * rms * self.gain_parameter\n",
    "        # 第一个乘法是因为手动保留了维度所以才能进行的，第二个乘法会自动广播\n",
    "        return res.to(in_dtype)\n",
    "\n"
   ]
  },
  {
   "cell_type": "code",
   "execution_count": 2,
   "id": "bb4e63f1",
   "metadata": {},
   "outputs": [
    {
     "name": "stdout",
     "output_type": "stream",
     "text": [
      "<class 'torch.Tensor'>\n",
      "tensor([1, 2, 3])\n",
      "torch.int64\n"
     ]
    }
   ],
   "source": [
    "x = torch.tensor([1,2,3])\n",
    "n = 3\n",
    "print(type(x))\n",
    "print(x)\n",
    "print(x.dtype)"
   ]
  },
  {
   "cell_type": "code",
   "execution_count": 18,
   "id": "ee544152",
   "metadata": {},
   "outputs": [
    {
     "name": "stdout",
     "output_type": "stream",
     "text": [
      "tensor(2.1602)\n",
      "torch.float32\n"
     ]
    }
   ],
   "source": [
    "z = torch.sqrt(torch.sum(x**2) / 3)\n",
    "print(z)\n",
    "print(z.dtype)"
   ]
  },
  {
   "cell_type": "code",
   "execution_count": null,
   "id": "033f7e5f",
   "metadata": {},
   "outputs": [
    {
     "name": "stdout",
     "output_type": "stream",
     "text": [
      "tensor([ 4, 10, 18])\n",
      "tensor([ 4, 10, 18])\n"
     ]
    }
   ],
   "source": [
    "y = torch.tensor([4,5,6])\n",
    "w = x * y\n",
    "print(w)\n",
    "w = einsum(x,y,\"dim1, dim1 -> dim1\")\n",
    "print(w)"
   ]
  },
  {
   "cell_type": "code",
   "execution_count": 39,
   "id": "affe2765",
   "metadata": {},
   "outputs": [
    {
     "data": {
      "text/plain": [
       "tensor([[ 4., 10., 18.],\n",
       "        [16., 25., 36.]])"
      ]
     },
     "execution_count": 39,
     "metadata": {},
     "output_type": "execute_result"
    }
   ],
   "source": [
    "x = torch.tensor([[1,2,3],[4,5,6]]).to(torch.float32)\n",
    "y = torch.tensor([4,5,6]).to(torch.float32)\n",
    "z = einsum(x, y, \"a b, b -> a b\")\n",
    "z"
   ]
  },
  {
   "cell_type": "code",
   "execution_count": 26,
   "id": "30ec9613",
   "metadata": {},
   "outputs": [
    {
     "name": "stdout",
     "output_type": "stream",
     "text": [
      "tensor([[[ 1.,  2.,  3.,  1.],\n",
      "         [ 4.,  5.,  6.,  1.],\n",
      "         [ 1.,  4.,  7., 11.]],\n",
      "\n",
      "        [[ 7.,  8.,  9.,  1.],\n",
      "         [10., 11., 12.,  1.],\n",
      "         [ 2.,  5.,  8., 12.]]])\n",
      "torch.Size([2, 3, 4])\n",
      "torch.float32\n"
     ]
    }
   ],
   "source": [
    "x = torch.tensor([[[1,2,3,1],\n",
    "                   [4,5,6,1],\n",
    "                   [1,4,7,11]],\n",
    "\n",
    "                  [[7,8,9,1],\n",
    "                   [10,11,12,1],\n",
    "                   [2,5,8,12]]])\n",
    "x = x.to(torch.float32)\n",
    "print(x)\n",
    "print(x.shape)\n",
    "print(x.dtype)"
   ]
  },
  {
   "cell_type": "code",
   "execution_count": 27,
   "id": "17468b31",
   "metadata": {},
   "outputs": [
    {
     "name": "stdout",
     "output_type": "stream",
     "text": [
      "tensor([[[2.0000],\n",
      "         [4.4441],\n",
      "         [6.8557]],\n",
      "\n",
      "        [[7.0000],\n",
      "         [9.5786],\n",
      "         [7.7136]]])\n"
     ]
    }
   ],
   "source": [
    "rms = torch.sqrt(reduce(x**2, \"b s d -> b s 1\", \"mean\") + 0.25)\n",
    "print(rms)"
   ]
  },
  {
   "cell_type": "code",
   "execution_count": 28,
   "id": "a6290fde",
   "metadata": {},
   "outputs": [
    {
     "name": "stdout",
     "output_type": "stream",
     "text": [
      "tensor([[[0.5000, 1.0000, 1.5000, 0.5000],\n",
      "         [0.9001, 1.1251, 1.3501, 0.2250],\n",
      "         [0.1459, 0.5835, 1.0211, 1.6045]],\n",
      "\n",
      "        [[1.0000, 1.1429, 1.2857, 0.1429],\n",
      "         [1.0440, 1.1484, 1.2528, 0.1044],\n",
      "         [0.2593, 0.6482, 1.0371, 1.5557]]])\n"
     ]
    }
   ],
   "source": [
    "x = x / rms\n",
    "print(x)"
   ]
  },
  {
   "cell_type": "code",
   "execution_count": 41,
   "id": "9508a019",
   "metadata": {},
   "outputs": [
    {
     "name": "stdout",
     "output_type": "stream",
     "text": [
      "tensor([[[0.5000, 2.0000, 4.5000, 2.0000],\n",
      "         [0.9001, 2.2502, 4.0503, 0.9001],\n",
      "         [0.1459, 1.1669, 3.0632, 6.4181]],\n",
      "\n",
      "        [[1.0000, 2.2857, 3.8571, 0.5714],\n",
      "         [1.0440, 2.2968, 3.7584, 0.4176],\n",
      "         [0.2593, 1.2964, 3.1114, 6.2228]]])\n",
      "\n",
      "tensor([[[0.5000, 2.0000, 4.5000, 2.0000],\n",
      "         [0.9001, 2.2502, 4.0503, 0.9001],\n",
      "         [0.1459, 1.1669, 3.0632, 6.4181]],\n",
      "\n",
      "        [[1.0000, 2.2857, 3.8571, 0.5714],\n",
      "         [1.0440, 2.2968, 3.7584, 0.4176],\n",
      "         [0.2593, 1.2964, 3.1114, 6.2228]]])\n",
      "\n",
      "tensor([[[0.5000, 2.0000, 4.5000, 2.0000],\n",
      "         [0.9001, 2.2502, 4.0503, 0.9001],\n",
      "         [0.1459, 1.1669, 3.0632, 6.4181]],\n",
      "\n",
      "        [[1.0000, 2.2857, 3.8571, 0.5714],\n",
      "         [1.0440, 2.2968, 3.7584, 0.4176],\n",
      "         [0.2593, 1.2964, 3.1114, 6.2228]]])\n"
     ]
    }
   ],
   "source": [
    "g = torch.tensor([1,2,3,4])\n",
    "z = x * g\n",
    "g1 = rearrange(g, \"d -> 1 1 d\")\n",
    "z1 = x * g1\n",
    "z2 = einsum(x, g, \"b s d, d -> b s d\")\n",
    "print(z)\n",
    "print()\n",
    "print(z1)\n",
    "print()\n",
    "print(z2)\n"
   ]
  },
  {
   "cell_type": "code",
   "execution_count": 43,
   "id": "477925fc",
   "metadata": {},
   "outputs": [
    {
     "data": {
      "text/plain": [
       "tensor([[[2.0000, 1.0000, 0.6667, 2.0000],\n",
       "         [1.1110, 0.8888, 0.7407, 4.4441],\n",
       "         [6.8557, 1.7139, 0.9794, 0.6232]],\n",
       "\n",
       "        [[1.0000, 0.8750, 0.7778, 7.0000],\n",
       "         [0.9579, 0.8708, 0.7982, 9.5786],\n",
       "         [3.8568, 1.5427, 0.9642, 0.6428]]])"
      ]
     },
     "execution_count": 43,
     "metadata": {},
     "output_type": "execute_result"
    }
   ],
   "source": [
    "x ** -1"
   ]
  },
  {
   "cell_type": "code",
   "execution_count": 44,
   "id": "b509859a",
   "metadata": {},
   "outputs": [
    {
     "name": "stdout",
     "output_type": "stream",
     "text": [
      "tensor([[[1., 1., 1., 1.],\n",
      "         [1., 1., 1., 1.],\n",
      "         [1., 1., 1., 1.]],\n",
      "\n",
      "        [[1., 1., 1., 1.],\n",
      "         [1., 1., 1., 1.],\n",
      "         [1., 1., 1., 1.]]])\n"
     ]
    }
   ],
   "source": [
    "nn.init.ones_(x)\n",
    "print(x)"
   ]
  },
  {
   "cell_type": "code",
   "execution_count": 47,
   "id": "0483350a",
   "metadata": {},
   "outputs": [
    {
     "data": {
      "text/plain": [
       "2"
      ]
     },
     "execution_count": 47,
     "metadata": {},
     "output_type": "execute_result"
    }
   ],
   "source": [
    "x = 1\n",
    "y = x * 8 / 3\n",
    "int(y)"
   ]
  },
  {
   "cell_type": "code",
   "execution_count": 48,
   "id": "22b156ea",
   "metadata": {},
   "outputs": [
    {
     "name": "stdout",
     "output_type": "stream",
     "text": [
      "tensor([[[ 1,  2,  3,  1],\n",
      "         [ 4,  5,  6,  1],\n",
      "         [ 1,  4,  7, 11]],\n",
      "\n",
      "        [[ 7,  8,  9,  1],\n",
      "         [10, 11, 12,  1],\n",
      "         [ 2,  5,  8, 12]]])\n",
      "tensor([[[ 0.7311,  1.7616,  2.8577,  0.7311],\n",
      "         [ 3.9281,  4.9665,  5.9852,  0.7311],\n",
      "         [ 0.7311,  3.9281,  6.9936, 10.9998]],\n",
      "\n",
      "        [[ 6.9936,  7.9973,  8.9989,  0.7311],\n",
      "         [ 9.9995, 10.9998, 11.9999,  0.7311],\n",
      "         [ 1.7616,  4.9665,  7.9973, 11.9999]]])\n"
     ]
    }
   ],
   "source": [
    "def swish(x:torch.Tensor) -> torch.Tensor:\n",
    "    return x * torch.sigmoid(x)\n",
    "\n",
    "testtensor = torch.tensor([[[1,2,3,1],\n",
    "                   [4,5,6,1],\n",
    "                   [1,4,7,11]],\n",
    "\n",
    "                  [[7,8,9,1],\n",
    "                   [10,11,12,1],\n",
    "                   [2,5,8,12]]])\n",
    "\n",
    "x = testtensor.clone()\n",
    "print(x)\n",
    "print(swish(x))"
   ]
  },
  {
   "cell_type": "code",
   "execution_count": null,
   "id": "683ac631",
   "metadata": {},
   "outputs": [],
   "source": [
    "def swish(x:torch.Tensor) -> torch.Tensor:\n",
    "    return x * torch.sigmoid(x)\n",
    "\n",
    "class SwiGLUFFN(nn.Module):\n",
    "    def __init__(self, \n",
    "                 d_model:int,\n",
    "                 d_ff:int,\n",
    "                 device:torch.device | None = None,\n",
    "                 dtype:torch.dtype | None = None) -> None:\n",
    "        super().__init__()\n",
    "        self.d_model = d_model\n",
    "        self.d_ff = d_ff\n",
    "        parameter_kwargs = {\"device\":device,\"dtype\":dtype}\n",
    "\n",
    "        self.linear1 = Linear(d_model,d_ff,**parameter_kwargs)\n",
    "        self.linear2 = Linear(d_ff,d_model,**parameter_kwargs)\n",
    "        self.linear3 = Linear(d_model,d_ff,**parameter_kwargs)\n",
    "    \n",
    "    def forward(self, x:torch.Tensor) -> torch.Tensor:   \n",
    "        activates = swish(self.linear1(x))\n",
    "        gates = self.linear3(x)\n",
    "        return self.linear2(activates * gates)"
   ]
  },
  {
   "cell_type": "code",
   "execution_count": null,
   "id": "90c4ab0c",
   "metadata": {},
   "outputs": [
    {
     "name": "stdout",
     "output_type": "stream",
     "text": [
      "0.1\n",
      "[[ 1.     0.1    0.01   0.001]\n",
      " [ 2.     0.2    0.02   0.002]\n",
      " [ 3.     0.3    0.03   0.003]\n",
      " [ 4.     0.4    0.04   0.004]\n",
      " [ 5.     0.5    0.05   0.005]\n",
      " [ 6.     0.6    0.06   0.006]\n",
      " [ 7.     0.7    0.07   0.007]\n",
      " [ 8.     0.8    0.08   0.008]\n",
      " [ 9.     0.9    0.09   0.009]\n",
      " [10.     1.     0.1    0.01 ]]\n"
     ]
    },
    {
     "data": {
      "image/png": "[encoded data removed]",
      "text/plain": [
       "<Figure size 640x480 with 2 Axes>"
      ]
     },
     "metadata": {},
     "output_type": "display_data"
    }
   ],
   "source": [
    "dq = 8\n",
    "halfdq = int(dq/2)\n",
    "maxlen = 10\n",
    "THETA = 10000\n",
    "\n",
    "import math\n",
    "S = math.pow(THETA,-2/dq)\n",
    "print(S)\n",
    "\n",
    "thetas = [[i * math.pow(S,k-1) for k in range(1,halfdq+1)] for i in range(1,maxlen+1)]\n",
    "\n",
    "\n",
    "\n",
    "import matplotlib.pyplot as plt\n",
    "import numpy as np\n",
    "thetas = np.array(thetas)\n",
    "\n",
    "np.set_printoptions(precision=3, suppress=True)\n",
    "print(thetas)\n",
    "plt.imshow(thetas)\n",
    "plt.colorbar()\n",
    "plt.show()\n"
   ]
  },
  {
   "cell_type": "code",
   "execution_count": 17,
   "id": "e66a99da",
   "metadata": {},
   "outputs": [
    {
     "name": "stdout",
     "output_type": "stream",
     "text": [
      "tensor([ 1,  2,  3,  4,  5,  6,  7,  8,  9, 10])\n",
      "torch.int64 torch.Size([10])\n",
      "tensor([ 1,  2,  3,  4,  5,  6,  7,  8,  9, 10])\n",
      "torch.Size([10])\n"
     ]
    }
   ],
   "source": [
    "itorch = torch.arange(1,maxlen+1)\n",
    "print(itorch)\n",
    "print(itorch.dtype, itorch.shape)\n",
    "rearrange(itorch,\"seq -> seq 1\")\n",
    "print(itorch)\n",
    "print(itorch.shape)"
   ]
  },
  {
   "cell_type": "code",
   "execution_count": 19,
   "id": "c46a5472",
   "metadata": {},
   "outputs": [
    {
     "name": "stdout",
     "output_type": "stream",
     "text": [
      "tensor([[1.0000e+00, 1.0000e-01, 1.0000e-02, 1.0000e-03],\n",
      "        [2.0000e+00, 2.0000e-01, 2.0000e-02, 2.0000e-03],\n",
      "        [3.0000e+00, 3.0000e-01, 3.0000e-02, 3.0000e-03],\n",
      "        [4.0000e+00, 4.0000e-01, 4.0000e-02, 4.0000e-03],\n",
      "        [5.0000e+00, 5.0000e-01, 5.0000e-02, 5.0000e-03],\n",
      "        [6.0000e+00, 6.0000e-01, 6.0000e-02, 6.0000e-03],\n",
      "        [7.0000e+00, 7.0000e-01, 7.0000e-02, 7.0000e-03],\n",
      "        [8.0000e+00, 8.0000e-01, 8.0000e-02, 8.0000e-03],\n",
      "        [9.0000e+00, 9.0000e-01, 9.0000e-02, 9.0000e-03],\n",
      "        [1.0000e+01, 1.0000e+00, 1.0000e-01, 1.0000e-02]])\n"
     ]
    }
   ],
   "source": [
    "ktorch = S ** torch.arange(halfdq)\n",
    "thetastorch = einsum(itorch,ktorch,\"seq, dimq -> seq dimq\")\n",
    "print(thetastorch)"
   ]
  },
  {
   "cell_type": "code",
   "execution_count": null,
   "id": "269d9f24",
   "metadata": {},
   "outputs": [],
   "source": []
  }
 ],
 "metadata": {
  "kernelspec": {
   "display_name": "cs336-basics",
   "language": "python",
   "name": "python3"
  },
  "language_info": {
   "codemirror_mode": {
    "name": "ipython",
    "version": 3
   },
   "file_extension": ".py",
   "mimetype": "text/x-python",
   "name": "python",
   "nbconvert_exporter": "python",
   "pygments_lexer": "ipython3",
   "version": "3.13.7"
  }
 },
 "nbformat": 4,
 "nbformat_minor": 5
}
